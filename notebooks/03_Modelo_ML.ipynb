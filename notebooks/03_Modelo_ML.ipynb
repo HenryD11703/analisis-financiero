{
 "cells": [
  {
   "cell_type": "markdown",
   "id": "0b6112fa",
   "metadata": {},
   "source": [
    "# Predicciones simples con Machine Learning"
   ]
  },
  {
   "cell_type": "markdown",
   "id": "996350b3",
   "metadata": {},
   "source": [
    "## Regresion Lineal"
   ]
  },
  {
   "cell_type": "code",
   "execution_count": 4,
   "id": "31743b34",
   "metadata": {},
   "outputs": [
    {
     "name": "stdout",
     "output_type": "stream",
     "text": [
      "Datos cargados y librerías importadas.\n"
     ]
    },
    {
     "data": {
      "text/html": [
       "<div>\n",
       "<style scoped>\n",
       "    .dataframe tbody tr th:only-of-type {\n",
       "        vertical-align: middle;\n",
       "    }\n",
       "\n",
       "    .dataframe tbody tr th {\n",
       "        vertical-align: top;\n",
       "    }\n",
       "\n",
       "    .dataframe thead th {\n",
       "        text-align: right;\n",
       "    }\n",
       "</style>\n",
       "<table border=\"1\" class=\"dataframe\">\n",
       "  <thead>\n",
       "    <tr style=\"text-align: right;\">\n",
       "      <th></th>\n",
       "      <th>Open</th>\n",
       "      <th>High</th>\n",
       "      <th>Low</th>\n",
       "      <th>Close</th>\n",
       "      <th>Volume</th>\n",
       "    </tr>\n",
       "    <tr>\n",
       "      <th>Date</th>\n",
       "      <th></th>\n",
       "      <th></th>\n",
       "      <th></th>\n",
       "      <th></th>\n",
       "      <th></th>\n",
       "    </tr>\n",
       "  </thead>\n",
       "  <tbody>\n",
       "    <tr>\n",
       "      <th>2020-08-31 00:00:00-04:00</th>\n",
       "      <td>124.099333</td>\n",
       "      <td>127.426026</td>\n",
       "      <td>122.562438</td>\n",
       "      <td>125.519493</td>\n",
       "      <td>225702700</td>\n",
       "    </tr>\n",
       "    <tr>\n",
       "      <th>2020-09-01 00:00:00-04:00</th>\n",
       "      <td>129.137999</td>\n",
       "      <td>131.122352</td>\n",
       "      <td>126.968843</td>\n",
       "      <td>130.519257</td>\n",
       "      <td>151948100</td>\n",
       "    </tr>\n",
       "    <tr>\n",
       "      <th>2020-09-02 00:00:00-04:00</th>\n",
       "      <td>133.836251</td>\n",
       "      <td>134.215610</td>\n",
       "      <td>123.535172</td>\n",
       "      <td>127.815125</td>\n",
       "      <td>200119000</td>\n",
       "    </tr>\n",
       "    <tr>\n",
       "      <th>2020-09-03 00:00:00-04:00</th>\n",
       "      <td>123.447625</td>\n",
       "      <td>125.324964</td>\n",
       "      <td>117.212500</td>\n",
       "      <td>117.582130</td>\n",
       "      <td>257599600</td>\n",
       "    </tr>\n",
       "    <tr>\n",
       "      <th>2020-09-04 00:00:00-04:00</th>\n",
       "      <td>116.794232</td>\n",
       "      <td>120.325195</td>\n",
       "      <td>107.864682</td>\n",
       "      <td>117.659950</td>\n",
       "      <td>332607200</td>\n",
       "    </tr>\n",
       "  </tbody>\n",
       "</table>\n",
       "</div>"
      ],
      "text/plain": [
       "                                 Open        High         Low       Close  \\\n",
       "Date                                                                        \n",
       "2020-08-31 00:00:00-04:00  124.099333  127.426026  122.562438  125.519493   \n",
       "2020-09-01 00:00:00-04:00  129.137999  131.122352  126.968843  130.519257   \n",
       "2020-09-02 00:00:00-04:00  133.836251  134.215610  123.535172  127.815125   \n",
       "2020-09-03 00:00:00-04:00  123.447625  125.324964  117.212500  117.582130   \n",
       "2020-09-04 00:00:00-04:00  116.794232  120.325195  107.864682  117.659950   \n",
       "\n",
       "                              Volume  \n",
       "Date                                  \n",
       "2020-08-31 00:00:00-04:00  225702700  \n",
       "2020-09-01 00:00:00-04:00  151948100  \n",
       "2020-09-02 00:00:00-04:00  200119000  \n",
       "2020-09-03 00:00:00-04:00  257599600  \n",
       "2020-09-04 00:00:00-04:00  332607200  "
      ]
     },
     "metadata": {},
     "output_type": "display_data"
    }
   ],
   "source": [
    "import pandas as pd\n",
    "import numpy as np\n",
    "from sklearn.model_selection import train_test_split\n",
    "from sklearn.linear_model import LinearRegression\n",
    "from sklearn.metrics import mean_squared_error\n",
    "import plotly.graph_objects as go\n",
    "\n",
    "# Cargamos los datos limpios\n",
    "df = pd.read_csv('../data/AAPL_limpio.csv', index_col='Date', parse_dates=True)\n",
    "\n",
    "# Eliminamos filas con valores nulos que se generaron al calcular las medias móviles\n",
    "df.dropna(inplace=True)\n",
    "\n",
    "print(\"Datos cargados y librerías importadas.\")\n",
    "display(df.head())"
   ]
  },
  {
   "cell_type": "code",
   "execution_count": 6,
   "id": "1f841a8e",
   "metadata": {},
   "outputs": [],
   "source": [
    "# Definimos las columnas que serán nuestras características (variables de entrada)\n",
    "features = ['Open', 'High', 'Low', 'Volume']\n",
    "\n",
    "X = df[features]\n",
    "y = df['Close']"
   ]
  },
  {
   "cell_type": "code",
   "execution_count": 7,
   "id": "e56fc8b1",
   "metadata": {},
   "outputs": [
    {
     "name": "stdout",
     "output_type": "stream",
     "text": [
      "Tamaño del conjunto de entrenamiento: 1004 filas\n",
      "Tamaño del conjunto de prueba: 252 filas\n"
     ]
    }
   ],
   "source": [
    "# train_test_split divide los datos, pero por defecto los baraja.\n",
    "# Para datos de tiempo, ponemos shuffle=False.\n",
    "# test_size=0.2 significa que el 20% de los datos será para prueba.\n",
    "X_train, X_test, y_train, y_test = train_test_split(X, y, test_size=0.2, shuffle=False)\n",
    "\n",
    "print(f\"Tamaño del conjunto de entrenamiento: {len(X_train)} filas\")\n",
    "print(f\"Tamaño del conjunto de prueba: {len(X_test)} filas\")"
   ]
  },
  {
   "cell_type": "markdown",
   "id": "3ac07696",
   "metadata": {},
   "source": [
    "Conjunto de Entrenamiento (80%): Lo usamos para que el modelo aprenda.\n",
    "\n",
    "Conjunto de Prueba (20%): Lo guardamos para evaluar qué tan buenas son las predicciones del modelo en datos que nunca ha visto."
   ]
  },
  {
   "cell_type": "code",
   "execution_count": 8,
   "id": "98da9e1a",
   "metadata": {},
   "outputs": [
    {
     "name": "stdout",
     "output_type": "stream",
     "text": [
      "Modelo entrenado exitosamente.\n"
     ]
    }
   ],
   "source": [
    "# Creamos una instancia del modelo de Regresión Lineal\n",
    "modelo = LinearRegression()\n",
    "# Entrenamos el modelo con nuestros datos de entrenamiento\n",
    "modelo.fit(X_train, y_train)\n",
    "\n",
    "print(\"Modelo entrenado exitosamente.\")"
   ]
  },
  {
   "cell_type": "code",
   "execution_count": 9,
   "id": "915313bf",
   "metadata": {},
   "outputs": [
    {
     "name": "stdout",
     "output_type": "stream",
     "text": [
      "Error Cuadrático Medio (MSE): 1.98\n",
      "Raíz del Error Cuadrático Medio (RMSE): 1.41\n"
     ]
    }
   ],
   "source": [
    "# Hacemos predicciones sobre el conjunto de prueba\n",
    "predicciones = modelo.predict(X_test)\n",
    "\n",
    "# Calculamos el error. El Error Cuadrático Medio (MSE) es una métrica común.\n",
    "mse = mean_squared_error(y_test, predicciones)\n",
    "# La raíz del MSE (RMSE) es más fácil de interpretar porque está en la misma unidad que el precio (USD).\n",
    "rmse = np.sqrt(mse)\n",
    "\n",
    "print(f\"Error Cuadrático Medio (MSE): {mse:.2f}\")\n",
    "print(f\"Raíz del Error Cuadrático Medio (RMSE): {rmse:.2f}\")"
   ]
  },
  {
   "cell_type": "markdown",
   "id": "52a3a8db",
   "metadata": {},
   "source": [
    "En este caso obtuvimos estos valores\n",
    "\n",
    "Error Cuadrático Medio (MSE): 1.98\n",
    "Raíz del Error Cuadrático Medio (RMSE): 1.41\n",
    "\n",
    "Esto significa que, en promedio, nuestras predicciones están a 1.41 USD de los valores reales. Lo que es bastante aceptable para un modelo de regresión lineal en el ámbito financiero.\n"
   ]
  },
  {
   "cell_type": "markdown",
   "id": "cf8e98b0",
   "metadata": {},
   "source": [
    "## Graficas de las predicciones"
   ]
  },
  {
   "cell_type": "code",
   "execution_count": 10,
   "id": "5842faa2",
   "metadata": {},
   "outputs": [
    {
     "data": {
      "text/html": [
       "<div>\n",
       "<style scoped>\n",
       "    .dataframe tbody tr th:only-of-type {\n",
       "        vertical-align: middle;\n",
       "    }\n",
       "\n",
       "    .dataframe tbody tr th {\n",
       "        vertical-align: top;\n",
       "    }\n",
       "\n",
       "    .dataframe thead th {\n",
       "        text-align: right;\n",
       "    }\n",
       "</style>\n",
       "<table border=\"1\" class=\"dataframe\">\n",
       "  <thead>\n",
       "    <tr style=\"text-align: right;\">\n",
       "      <th></th>\n",
       "      <th>Real</th>\n",
       "      <th>Predicción</th>\n",
       "    </tr>\n",
       "    <tr>\n",
       "      <th>Date</th>\n",
       "      <th></th>\n",
       "      <th></th>\n",
       "    </tr>\n",
       "  </thead>\n",
       "  <tbody>\n",
       "    <tr>\n",
       "      <th>2024-08-28 00:00:00-04:00</th>\n",
       "      <td>225.440781</td>\n",
       "      <td>226.606502</td>\n",
       "    </tr>\n",
       "    <tr>\n",
       "      <th>2024-08-29 00:00:00-04:00</th>\n",
       "      <td>228.725510</td>\n",
       "      <td>230.308751</td>\n",
       "    </tr>\n",
       "    <tr>\n",
       "      <th>2024-08-30 00:00:00-04:00</th>\n",
       "      <td>227.939163</td>\n",
       "      <td>227.048204</td>\n",
       "    </tr>\n",
       "    <tr>\n",
       "      <th>2024-09-03 00:00:00-04:00</th>\n",
       "      <td>221.738022</td>\n",
       "      <td>221.854879</td>\n",
       "    </tr>\n",
       "    <tr>\n",
       "      <th>2024-09-04 00:00:00-04:00</th>\n",
       "      <td>219.826920</td>\n",
       "      <td>217.317254</td>\n",
       "    </tr>\n",
       "  </tbody>\n",
       "</table>\n",
       "</div>"
      ],
      "text/plain": [
       "                                 Real  Predicción\n",
       "Date                                             \n",
       "2024-08-28 00:00:00-04:00  225.440781  226.606502\n",
       "2024-08-29 00:00:00-04:00  228.725510  230.308751\n",
       "2024-08-30 00:00:00-04:00  227.939163  227.048204\n",
       "2024-09-03 00:00:00-04:00  221.738022  221.854879\n",
       "2024-09-04 00:00:00-04:00  219.826920  217.317254"
      ]
     },
     "metadata": {},
     "output_type": "display_data"
    }
   ],
   "source": [
    "resultados = pd.DataFrame(index=y_test.index)\n",
    "resultados['Real'] = y_test\n",
    "resultados['Predicción'] = predicciones\n",
    "\n",
    "# Mostramos las primeras filas de nuestro nuevo DataFrame.\n",
    "display(resultados.head())"
   ]
  },
  {
   "cell_type": "code",
   "execution_count": null,
   "id": "d3e6e8d3",
   "metadata": {},
   "outputs": [
    {
     "data": {
      "application/vnd.plotly.v1+json": {
       "config": {
        "plotlyServerURL": "https://plot.ly"
       },
       "data": [
        {
         "mode": "lines",
         "name": "Precio Real",
         "type": "scatter",
         "x": [
          "2024-08-28T00:00:00-04:00",
          "2024-08-29T00:00:00-04:00",
          "2024-08-30T00:00:00-04:00",
          "2024-09-03T00:00:00-04:00",
          "2024-09-04T00:00:00-04:00",
          "2024-09-05T00:00:00-04:00",
          "2024-09-06T00:00:00-04:00",
          "2024-09-09T00:00:00-04:00",
          "2024-09-10T00:00:00-04:00",
          "2024-09-11T00:00:00-04:00",
          "2024-09-12T00:00:00-04:00",
          "2024-09-13T00:00:00-04:00",
          "2024-09-16T00:00:00-04:00",
          "2024-09-17T00:00:00-04:00",
          "2024-09-18T00:00:00-04:00",
          "2024-09-19T00:00:00-04:00",
          "2024-09-20T00:00:00-04:00",
          "2024-09-23T00:00:00-04:00",
          "2024-09-24T00:00:00-04:00",
          "2024-09-25T00:00:00-04:00",
          "2024-09-26T00:00:00-04:00",
          "2024-09-27T00:00:00-04:00",
          "2024-09-30T00:00:00-04:00",
          "2024-10-01T00:00:00-04:00",
          "2024-10-02T00:00:00-04:00",
          "2024-10-03T00:00:00-04:00",
          "2024-10-04T00:00:00-04:00",
          "2024-10-07T00:00:00-04:00",
          "2024-10-08T00:00:00-04:00",
          "2024-10-09T00:00:00-04:00",
          "2024-10-10T00:00:00-04:00",
          "2024-10-11T00:00:00-04:00",
          "2024-10-14T00:00:00-04:00",
          "2024-10-15T00:00:00-04:00",
          "2024-10-16T00:00:00-04:00",
          "2024-10-17T00:00:00-04:00",
          "2024-10-18T00:00:00-04:00",
          "2024-10-21T00:00:00-04:00",
          "2024-10-22T00:00:00-04:00",
          "2024-10-23T00:00:00-04:00",
          "2024-10-24T00:00:00-04:00",
          "2024-10-25T00:00:00-04:00",
          "2024-10-28T00:00:00-04:00",
          "2024-10-29T00:00:00-04:00",
          "2024-10-30T00:00:00-04:00",
          "2024-10-31T00:00:00-04:00",
          "2024-11-01T00:00:00-04:00",
          "2024-11-04T00:00:00-05:00",
          "2024-11-05T00:00:00-05:00",
          "2024-11-06T00:00:00-05:00",
          "2024-11-07T00:00:00-05:00",
          "2024-11-08T00:00:00-05:00",
          "2024-11-11T00:00:00-05:00",
          "2024-11-12T00:00:00-05:00",
          "2024-11-13T00:00:00-05:00",
          "2024-11-14T00:00:00-05:00",
          "2024-11-15T00:00:00-05:00",
          "2024-11-18T00:00:00-05:00",
          "2024-11-19T00:00:00-05:00",
          "2024-11-20T00:00:00-05:00",
          "2024-11-21T00:00:00-05:00",
          "2024-11-22T00:00:00-05:00",
          "2024-11-25T00:00:00-05:00",
          "2024-11-26T00:00:00-05:00",
          "2024-11-27T00:00:00-05:00",
          "2024-11-29T00:00:00-05:00",
          "2024-12-02T00:00:00-05:00",
          "2024-12-03T00:00:00-05:00",
          "2024-12-04T00:00:00-05:00",
          "2024-12-05T00:00:00-05:00",
          "2024-12-06T00:00:00-05:00",
          "2024-12-09T00:00:00-05:00",
          "2024-12-10T00:00:00-05:00",
          "2024-12-11T00:00:00-05:00",
          "2024-12-12T00:00:00-05:00",
          "2024-12-13T00:00:00-05:00",
          "2024-12-16T00:00:00-05:00",
          "2024-12-17T00:00:00-05:00",
          "2024-12-18T00:00:00-05:00",
          "2024-12-19T00:00:00-05:00",
          "2024-12-20T00:00:00-05:00",
          "2024-12-23T00:00:00-05:00",
          "2024-12-24T00:00:00-05:00",
          "2024-12-26T00:00:00-05:00",
          "2024-12-27T00:00:00-05:00",
          "2024-12-30T00:00:00-05:00",
          "2024-12-31T00:00:00-05:00",
          "2025-01-02T00:00:00-05:00",
          "2025-01-03T00:00:00-05:00",
          "2025-01-06T00:00:00-05:00",
          "2025-01-07T00:00:00-05:00",
          "2025-01-08T00:00:00-05:00",
          "2025-01-10T00:00:00-05:00",
          "2025-01-13T00:00:00-05:00",
          "2025-01-14T00:00:00-05:00",
          "2025-01-15T00:00:00-05:00",
          "2025-01-16T00:00:00-05:00",
          "2025-01-17T00:00:00-05:00",
          "2025-01-21T00:00:00-05:00",
          "2025-01-22T00:00:00-05:00",
          "2025-01-23T00:00:00-05:00",
          "2025-01-24T00:00:00-05:00",
          "2025-01-27T00:00:00-05:00",
          "2025-01-28T00:00:00-05:00",
          "2025-01-29T00:00:00-05:00",
          "2025-01-30T00:00:00-05:00",
          "2025-01-31T00:00:00-05:00",
          "2025-02-03T00:00:00-05:00",
          "2025-02-04T00:00:00-05:00",
          "2025-02-05T00:00:00-05:00",
          "2025-02-06T00:00:00-05:00",
          "2025-02-07T00:00:00-05:00",
          "2025-02-10T00:00:00-05:00",
          "2025-02-11T00:00:00-05:00",
          "2025-02-12T00:00:00-05:00",
          "2025-02-13T00:00:00-05:00",
          "2025-02-14T00:00:00-05:00",
          "2025-02-18T00:00:00-05:00",
          "2025-02-19T00:00:00-05:00",
          "2025-02-20T00:00:00-05:00",
          "2025-02-21T00:00:00-05:00",
          "2025-02-24T00:00:00-05:00",
          "2025-02-25T00:00:00-05:00",
          "2025-02-26T00:00:00-05:00",
          "2025-02-27T00:00:00-05:00",
          "2025-02-28T00:00:00-05:00",
          "2025-03-03T00:00:00-05:00",
          "2025-03-04T00:00:00-05:00",
          "2025-03-05T00:00:00-05:00",
          "2025-03-06T00:00:00-05:00",
          "2025-03-07T00:00:00-05:00",
          "2025-03-10T00:00:00-04:00",
          "2025-03-11T00:00:00-04:00",
          "2025-03-12T00:00:00-04:00",
          "2025-03-13T00:00:00-04:00",
          "2025-03-14T00:00:00-04:00",
          "2025-03-17T00:00:00-04:00",
          "2025-03-18T00:00:00-04:00",
          "2025-03-19T00:00:00-04:00",
          "2025-03-20T00:00:00-04:00",
          "2025-03-21T00:00:00-04:00",
          "2025-03-24T00:00:00-04:00",
          "2025-03-25T00:00:00-04:00",
          "2025-03-26T00:00:00-04:00",
          "2025-03-27T00:00:00-04:00",
          "2025-03-28T00:00:00-04:00",
          "2025-03-31T00:00:00-04:00",
          "2025-04-01T00:00:00-04:00",
          "2025-04-02T00:00:00-04:00",
          "2025-04-03T00:00:00-04:00",
          "2025-04-04T00:00:00-04:00",
          "2025-04-07T00:00:00-04:00",
          "2025-04-08T00:00:00-04:00",
          "2025-04-09T00:00:00-04:00",
          "2025-04-10T00:00:00-04:00",
          "2025-04-11T00:00:00-04:00",
          "2025-04-14T00:00:00-04:00",
          "2025-04-15T00:00:00-04:00",
          "2025-04-16T00:00:00-04:00",
          "2025-04-17T00:00:00-04:00",
          "2025-04-21T00:00:00-04:00",
          "2025-04-22T00:00:00-04:00",
          "2025-04-23T00:00:00-04:00",
          "2025-04-24T00:00:00-04:00",
          "2025-04-25T00:00:00-04:00",
          "2025-04-28T00:00:00-04:00",
          "2025-04-29T00:00:00-04:00",
          "2025-04-30T00:00:00-04:00",
          "2025-05-01T00:00:00-04:00",
          "2025-05-02T00:00:00-04:00",
          "2025-05-05T00:00:00-04:00",
          "2025-05-06T00:00:00-04:00",
          "2025-05-07T00:00:00-04:00",
          "2025-05-08T00:00:00-04:00",
          "2025-05-09T00:00:00-04:00",
          "2025-05-12T00:00:00-04:00",
          "2025-05-13T00:00:00-04:00",
          "2025-05-14T00:00:00-04:00",
          "2025-05-15T00:00:00-04:00",
          "2025-05-16T00:00:00-04:00",
          "2025-05-19T00:00:00-04:00",
          "2025-05-20T00:00:00-04:00",
          "2025-05-21T00:00:00-04:00",
          "2025-05-22T00:00:00-04:00",
          "2025-05-23T00:00:00-04:00",
          "2025-05-27T00:00:00-04:00",
          "2025-05-28T00:00:00-04:00",
          "2025-05-29T00:00:00-04:00",
          "2025-05-30T00:00:00-04:00",
          "2025-06-02T00:00:00-04:00",
          "2025-06-03T00:00:00-04:00",
          "2025-06-04T00:00:00-04:00",
          "2025-06-05T00:00:00-04:00",
          "2025-06-06T00:00:00-04:00",
          "2025-06-09T00:00:00-04:00",
          "2025-06-10T00:00:00-04:00",
          "2025-06-11T00:00:00-04:00",
          "2025-06-12T00:00:00-04:00",
          "2025-06-13T00:00:00-04:00",
          "2025-06-16T00:00:00-04:00",
          "2025-06-17T00:00:00-04:00",
          "2025-06-18T00:00:00-04:00",
          "2025-06-20T00:00:00-04:00",
          "2025-06-23T00:00:00-04:00",
          "2025-06-24T00:00:00-04:00",
          "2025-06-25T00:00:00-04:00",
          "2025-06-26T00:00:00-04:00",
          "2025-06-27T00:00:00-04:00",
          "2025-06-30T00:00:00-04:00",
          "2025-07-01T00:00:00-04:00",
          "2025-07-02T00:00:00-04:00",
          "2025-07-03T00:00:00-04:00",
          "2025-07-07T00:00:00-04:00",
          "2025-07-08T00:00:00-04:00",
          "2025-07-09T00:00:00-04:00",
          "2025-07-10T00:00:00-04:00",
          "2025-07-11T00:00:00-04:00",
          "2025-07-14T00:00:00-04:00",
          "2025-07-15T00:00:00-04:00",
          "2025-07-16T00:00:00-04:00",
          "2025-07-17T00:00:00-04:00",
          "2025-07-18T00:00:00-04:00",
          "2025-07-21T00:00:00-04:00",
          "2025-07-22T00:00:00-04:00",
          "2025-07-23T00:00:00-04:00",
          "2025-07-24T00:00:00-04:00",
          "2025-07-25T00:00:00-04:00",
          "2025-07-28T00:00:00-04:00",
          "2025-07-29T00:00:00-04:00",
          "2025-07-30T00:00:00-04:00",
          "2025-07-31T00:00:00-04:00",
          "2025-08-01T00:00:00-04:00",
          "2025-08-04T00:00:00-04:00",
          "2025-08-05T00:00:00-04:00",
          "2025-08-06T00:00:00-04:00",
          "2025-08-07T00:00:00-04:00",
          "2025-08-08T00:00:00-04:00",
          "2025-08-11T00:00:00-04:00",
          "2025-08-12T00:00:00-04:00",
          "2025-08-13T00:00:00-04:00",
          "2025-08-14T00:00:00-04:00",
          "2025-08-15T00:00:00-04:00",
          "2025-08-18T00:00:00-04:00",
          "2025-08-19T00:00:00-04:00",
          "2025-08-20T00:00:00-04:00",
          "2025-08-21T00:00:00-04:00",
          "2025-08-22T00:00:00-04:00",
          "2025-08-25T00:00:00-04:00",
          "2025-08-26T00:00:00-04:00",
          "2025-08-27T00:00:00-04:00",
          "2025-08-28T00:00:00-04:00",
          "2025-08-29T00:00:00-04:00"
         ],
         "y": {
          "bdata": "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",
          "dtype": "f8"
         }
        },
        {
         "line": {
          "dash": "dot"
         },
         "mode": "lines",
         "name": "Predicción del Modelo",
         "type": "scatter",
         "x": [
          "2024-08-28T00:00:00-04:00",
          "2024-08-29T00:00:00-04:00",
          "2024-08-30T00:00:00-04:00",
          "2024-09-03T00:00:00-04:00",
          "2024-09-04T00:00:00-04:00",
          "2024-09-05T00:00:00-04:00",
          "2024-09-06T00:00:00-04:00",
          "2024-09-09T00:00:00-04:00",
          "2024-09-10T00:00:00-04:00",
          "2024-09-11T00:00:00-04:00",
          "2024-09-12T00:00:00-04:00",
          "2024-09-13T00:00:00-04:00",
          "2024-09-16T00:00:00-04:00",
          "2024-09-17T00:00:00-04:00",
          "2024-09-18T00:00:00-04:00",
          "2024-09-19T00:00:00-04:00",
          "2024-09-20T00:00:00-04:00",
          "2024-09-23T00:00:00-04:00",
          "2024-09-24T00:00:00-04:00",
          "2024-09-25T00:00:00-04:00",
          "2024-09-26T00:00:00-04:00",
          "2024-09-27T00:00:00-04:00",
          "2024-09-30T00:00:00-04:00",
          "2024-10-01T00:00:00-04:00",
          "2024-10-02T00:00:00-04:00",
          "2024-10-03T00:00:00-04:00",
          "2024-10-04T00:00:00-04:00",
          "2024-10-07T00:00:00-04:00",
          "2024-10-08T00:00:00-04:00",
          "2024-10-09T00:00:00-04:00",
          "2024-10-10T00:00:00-04:00",
          "2024-10-11T00:00:00-04:00",
          "2024-10-14T00:00:00-04:00",
          "2024-10-15T00:00:00-04:00",
          "2024-10-16T00:00:00-04:00",
          "2024-10-17T00:00:00-04:00",
          "2024-10-18T00:00:00-04:00",
          "2024-10-21T00:00:00-04:00",
          "2024-10-22T00:00:00-04:00",
          "2024-10-23T00:00:00-04:00",
          "2024-10-24T00:00:00-04:00",
          "2024-10-25T00:00:00-04:00",
          "2024-10-28T00:00:00-04:00",
          "2024-10-29T00:00:00-04:00",
          "2024-10-30T00:00:00-04:00",
          "2024-10-31T00:00:00-04:00",
          "2024-11-01T00:00:00-04:00",
          "2024-11-04T00:00:00-05:00",
          "2024-11-05T00:00:00-05:00",
          "2024-11-06T00:00:00-05:00",
          "2024-11-07T00:00:00-05:00",
          "2024-11-08T00:00:00-05:00",
          "2024-11-11T00:00:00-05:00",
          "2024-11-12T00:00:00-05:00",
          "2024-11-13T00:00:00-05:00",
          "2024-11-14T00:00:00-05:00",
          "2024-11-15T00:00:00-05:00",
          "2024-11-18T00:00:00-05:00",
          "2024-11-19T00:00:00-05:00",
          "2024-11-20T00:00:00-05:00",
          "2024-11-21T00:00:00-05:00",
          "2024-11-22T00:00:00-05:00",
          "2024-11-25T00:00:00-05:00",
          "2024-11-26T00:00:00-05:00",
          "2024-11-27T00:00:00-05:00",
          "2024-11-29T00:00:00-05:00",
          "2024-12-02T00:00:00-05:00",
          "2024-12-03T00:00:00-05:00",
          "2024-12-04T00:00:00-05:00",
          "2024-12-05T00:00:00-05:00",
          "2024-12-06T00:00:00-05:00",
          "2024-12-09T00:00:00-05:00",
          "2024-12-10T00:00:00-05:00",
          "2024-12-11T00:00:00-05:00",
          "2024-12-12T00:00:00-05:00",
          "2024-12-13T00:00:00-05:00",
          "2024-12-16T00:00:00-05:00",
          "2024-12-17T00:00:00-05:00",
          "2024-12-18T00:00:00-05:00",
          "2024-12-19T00:00:00-05:00",
          "2024-12-20T00:00:00-05:00",
          "2024-12-23T00:00:00-05:00",
          "2024-12-24T00:00:00-05:00",
          "2024-12-26T00:00:00-05:00",
          "2024-12-27T00:00:00-05:00",
          "2024-12-30T00:00:00-05:00",
          "2024-12-31T00:00:00-05:00",
          "2025-01-02T00:00:00-05:00",
          "2025-01-03T00:00:00-05:00",
          "2025-01-06T00:00:00-05:00",
          "2025-01-07T00:00:00-05:00",
          "2025-01-08T00:00:00-05:00",
          "2025-01-10T00:00:00-05:00",
          "2025-01-13T00:00:00-05:00",
          "2025-01-14T00:00:00-05:00",
          "2025-01-15T00:00:00-05:00",
          "2025-01-16T00:00:00-05:00",
          "2025-01-17T00:00:00-05:00",
          "2025-01-21T00:00:00-05:00",
          "2025-01-22T00:00:00-05:00",
          "2025-01-23T00:00:00-05:00",
          "2025-01-24T00:00:00-05:00",
          "2025-01-27T00:00:00-05:00",
          "2025-01-28T00:00:00-05:00",
          "2025-01-29T00:00:00-05:00",
          "2025-01-30T00:00:00-05:00",
          "2025-01-31T00:00:00-05:00",
          "2025-02-03T00:00:00-05:00",
          "2025-02-04T00:00:00-05:00",
          "2025-02-05T00:00:00-05:00",
          "2025-02-06T00:00:00-05:00",
          "2025-02-07T00:00:00-05:00",
          "2025-02-10T00:00:00-05:00",
          "2025-02-11T00:00:00-05:00",
          "2025-02-12T00:00:00-05:00",
          "2025-02-13T00:00:00-05:00",
          "2025-02-14T00:00:00-05:00",
          "2025-02-18T00:00:00-05:00",
          "2025-02-19T00:00:00-05:00",
          "2025-02-20T00:00:00-05:00",
          "2025-02-21T00:00:00-05:00",
          "2025-02-24T00:00:00-05:00",
          "2025-02-25T00:00:00-05:00",
          "2025-02-26T00:00:00-05:00",
          "2025-02-27T00:00:00-05:00",
          "2025-02-28T00:00:00-05:00",
          "2025-03-03T00:00:00-05:00",
          "2025-03-04T00:00:00-05:00",
          "2025-03-05T00:00:00-05:00",
          "2025-03-06T00:00:00-05:00",
          "2025-03-07T00:00:00-05:00",
          "2025-03-10T00:00:00-04:00",
          "2025-03-11T00:00:00-04:00",
          "2025-03-12T00:00:00-04:00",
          "2025-03-13T00:00:00-04:00",
          "2025-03-14T00:00:00-04:00",
          "2025-03-17T00:00:00-04:00",
          "2025-03-18T00:00:00-04:00",
          "2025-03-19T00:00:00-04:00",
          "2025-03-20T00:00:00-04:00",
          "2025-03-21T00:00:00-04:00",
          "2025-03-24T00:00:00-04:00",
          "2025-03-25T00:00:00-04:00",
          "2025-03-26T00:00:00-04:00",
          "2025-03-27T00:00:00-04:00",
          "2025-03-28T00:00:00-04:00",
          "2025-03-31T00:00:00-04:00",
          "2025-04-01T00:00:00-04:00",
          "2025-04-02T00:00:00-04:00",
          "2025-04-03T00:00:00-04:00",
          "2025-04-04T00:00:00-04:00",
          "2025-04-07T00:00:00-04:00",
          "2025-04-08T00:00:00-04:00",
          "2025-04-09T00:00:00-04:00",
          "2025-04-10T00:00:00-04:00",
          "2025-04-11T00:00:00-04:00",
          "2025-04-14T00:00:00-04:00",
          "2025-04-15T00:00:00-04:00",
          "2025-04-16T00:00:00-04:00",
          "2025-04-17T00:00:00-04:00",
          "2025-04-21T00:00:00-04:00",
          "2025-04-22T00:00:00-04:00",
          "2025-04-23T00:00:00-04:00",
          "2025-04-24T00:00:00-04:00",
          "2025-04-25T00:00:00-04:00",
          "2025-04-28T00:00:00-04:00",
          "2025-04-29T00:00:00-04:00",
          "2025-04-30T00:00:00-04:00",
          "2025-05-01T00:00:00-04:00",
          "2025-05-02T00:00:00-04:00",
          "2025-05-05T00:00:00-04:00",
          "2025-05-06T00:00:00-04:00",
          "2025-05-07T00:00:00-04:00",
          "2025-05-08T00:00:00-04:00",
          "2025-05-09T00:00:00-04:00",
          "2025-05-12T00:00:00-04:00",
          "2025-05-13T00:00:00-04:00",
          "2025-05-14T00:00:00-04:00",
          "2025-05-15T00:00:00-04:00",
          "2025-05-16T00:00:00-04:00",
          "2025-05-19T00:00:00-04:00",
          "2025-05-20T00:00:00-04:00",
          "2025-05-21T00:00:00-04:00",
          "2025-05-22T00:00:00-04:00",
          "2025-05-23T00:00:00-04:00",
          "2025-05-27T00:00:00-04:00",
          "2025-05-28T00:00:00-04:00",
          "2025-05-29T00:00:00-04:00",
          "2025-05-30T00:00:00-04:00",
          "2025-06-02T00:00:00-04:00",
          "2025-06-03T00:00:00-04:00",
          "2025-06-04T00:00:00-04:00",
          "2025-06-05T00:00:00-04:00",
          "2025-06-06T00:00:00-04:00",
          "2025-06-09T00:00:00-04:00",
          "2025-06-10T00:00:00-04:00",
          "2025-06-11T00:00:00-04:00",
          "2025-06-12T00:00:00-04:00",
          "2025-06-13T00:00:00-04:00",
          "2025-06-16T00:00:00-04:00",
          "2025-06-17T00:00:00-04:00",
          "2025-06-18T00:00:00-04:00",
          "2025-06-20T00:00:00-04:00",
          "2025-06-23T00:00:00-04:00",
          "2025-06-24T00:00:00-04:00",
          "2025-06-25T00:00:00-04:00",
          "2025-06-26T00:00:00-04:00",
          "2025-06-27T00:00:00-04:00",
          "2025-06-30T00:00:00-04:00",
          "2025-07-01T00:00:00-04:00",
          "2025-07-02T00:00:00-04:00",
          "2025-07-03T00:00:00-04:00",
          "2025-07-07T00:00:00-04:00",
          "2025-07-08T00:00:00-04:00",
          "2025-07-09T00:00:00-04:00",
          "2025-07-10T00:00:00-04:00",
          "2025-07-11T00:00:00-04:00",
          "2025-07-14T00:00:00-04:00",
          "2025-07-15T00:00:00-04:00",
          "2025-07-16T00:00:00-04:00",
          "2025-07-17T00:00:00-04:00",
          "2025-07-18T00:00:00-04:00",
          "2025-07-21T00:00:00-04:00",
          "2025-07-22T00:00:00-04:00",
          "2025-07-23T00:00:00-04:00",
          "2025-07-24T00:00:00-04:00",
          "2025-07-25T00:00:00-04:00",
          "2025-07-28T00:00:00-04:00",
          "2025-07-29T00:00:00-04:00",
          "2025-07-30T00:00:00-04:00",
          "2025-07-31T00:00:00-04:00",
          "2025-08-01T00:00:00-04:00",
          "2025-08-04T00:00:00-04:00",
          "2025-08-05T00:00:00-04:00",
          "2025-08-06T00:00:00-04:00",
          "2025-08-07T00:00:00-04:00",
          "2025-08-08T00:00:00-04:00",
          "2025-08-11T00:00:00-04:00",
          "2025-08-12T00:00:00-04:00",
          "2025-08-13T00:00:00-04:00",
          "2025-08-14T00:00:00-04:00",
          "2025-08-15T00:00:00-04:00",
          "2025-08-18T00:00:00-04:00",
          "2025-08-19T00:00:00-04:00",
          "2025-08-20T00:00:00-04:00",
          "2025-08-21T00:00:00-04:00",
          "2025-08-22T00:00:00-04:00",
          "2025-08-25T00:00:00-04:00",
          "2025-08-26T00:00:00-04:00",
          "2025-08-27T00:00:00-04:00",
          "2025-08-28T00:00:00-04:00",
          "2025-08-29T00:00:00-04:00"
         ],
         "y": {
          "bdata": "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",
          "dtype": "f8"
         }
        }
       ],
       "layout": {
        "legend": {
         "title": {
          "text": "Series"
         }
        },
        "template": {
         "data": {
          "bar": [
           {
            "error_x": {
             "color": "#f2f5fa"
            },
            "error_y": {
             "color": "#f2f5fa"
            },
            "marker": {
             "line": {
              "color": "rgb(17,17,17)",
              "width": 0.5
             },
             "pattern": {
              "fillmode": "overlay",
              "size": 10,
              "solidity": 0.2
             }
            },
            "type": "bar"
           }
          ],
          "barpolar": [
           {
            "marker": {
             "line": {
              "color": "rgb(17,17,17)",
              "width": 0.5
             },
             "pattern": {
              "fillmode": "overlay",
              "size": 10,
              "solidity": 0.2
             }
            },
            "type": "barpolar"
           }
          ],
          "carpet": [
           {
            "aaxis": {
             "endlinecolor": "#A2B1C6",
             "gridcolor": "#506784",
             "linecolor": "#506784",
             "minorgridcolor": "#506784",
             "startlinecolor": "#A2B1C6"
            },
            "baxis": {
             "endlinecolor": "#A2B1C6",
             "gridcolor": "#506784",
             "linecolor": "#506784",
             "minorgridcolor": "#506784",
             "startlinecolor": "#A2B1C6"
            },
            "type": "carpet"
           }
          ],
          "choropleth": [
           {
            "colorbar": {
             "outlinewidth": 0,
             "ticks": ""
            },
            "type": "choropleth"
           }
          ],
          "contour": [
           {
            "colorbar": {
             "outlinewidth": 0,
             "ticks": ""
            },
            "colorscale": [
             [
              0,
              "#0d0887"
             ],
             [
              0.1111111111111111,
              "#46039f"
             ],
             [
              0.2222222222222222,
              "#7201a8"
             ],
             [
              0.3333333333333333,
              "#9c179e"
             ],
             [
              0.4444444444444444,
              "#bd3786"
             ],
             [
              0.5555555555555556,
              "#d8576b"
             ],
             [
              0.6666666666666666,
              "#ed7953"
             ],
             [
              0.7777777777777778,
              "#fb9f3a"
             ],
             [
              0.8888888888888888,
              "#fdca26"
             ],
             [
              1,
              "#f0f921"
             ]
            ],
            "type": "contour"
           }
          ],
          "contourcarpet": [
           {
            "colorbar": {
             "outlinewidth": 0,
             "ticks": ""
            },
            "type": "contourcarpet"
           }
          ],
          "heatmap": [
           {
            "colorbar": {
             "outlinewidth": 0,
             "ticks": ""
            },
            "colorscale": [
             [
              0,
              "#0d0887"
             ],
             [
              0.1111111111111111,
              "#46039f"
             ],
             [
              0.2222222222222222,
              "#7201a8"
             ],
             [
              0.3333333333333333,
              "#9c179e"
             ],
             [
              0.4444444444444444,
              "#bd3786"
             ],
             [
              0.5555555555555556,
              "#d8576b"
             ],
             [
              0.6666666666666666,
              "#ed7953"
             ],
             [
              0.7777777777777778,
              "#fb9f3a"
             ],
             [
              0.8888888888888888,
              "#fdca26"
             ],
             [
              1,
              "#f0f921"
             ]
            ],
            "type": "heatmap"
           }
          ],
          "histogram": [
           {
            "marker": {
             "pattern": {
              "fillmode": "overlay",
              "size": 10,
              "solidity": 0.2
             }
            },
            "type": "histogram"
           }
          ],
          "histogram2d": [
           {
            "colorbar": {
             "outlinewidth": 0,
             "ticks": ""
            },
            "colorscale": [
             [
              0,
              "#0d0887"
             ],
             [
              0.1111111111111111,
              "#46039f"
             ],
             [
              0.2222222222222222,
              "#7201a8"
             ],
             [
              0.3333333333333333,
              "#9c179e"
             ],
             [
              0.4444444444444444,
              "#bd3786"
             ],
             [
              0.5555555555555556,
              "#d8576b"
             ],
             [
              0.6666666666666666,
              "#ed7953"
             ],
             [
              0.7777777777777778,
              "#fb9f3a"
             ],
             [
              0.8888888888888888,
              "#fdca26"
             ],
             [
              1,
              "#f0f921"
             ]
            ],
            "type": "histogram2d"
           }
          ],
          "histogram2dcontour": [
           {
            "colorbar": {
             "outlinewidth": 0,
             "ticks": ""
            },
            "colorscale": [
             [
              0,
              "#0d0887"
             ],
             [
              0.1111111111111111,
              "#46039f"
             ],
             [
              0.2222222222222222,
              "#7201a8"
             ],
             [
              0.3333333333333333,
              "#9c179e"
             ],
             [
              0.4444444444444444,
              "#bd3786"
             ],
             [
              0.5555555555555556,
              "#d8576b"
             ],
             [
              0.6666666666666666,
              "#ed7953"
             ],
             [
              0.7777777777777778,
              "#fb9f3a"
             ],
             [
              0.8888888888888888,
              "#fdca26"
             ],
             [
              1,
              "#f0f921"
             ]
            ],
            "type": "histogram2dcontour"
           }
          ],
          "mesh3d": [
           {
            "colorbar": {
             "outlinewidth": 0,
             "ticks": ""
            },
            "type": "mesh3d"
           }
          ],
          "parcoords": [
           {
            "line": {
             "colorbar": {
              "outlinewidth": 0,
              "ticks": ""
             }
            },
            "type": "parcoords"
           }
          ],
          "pie": [
           {
            "automargin": true,
            "type": "pie"
           }
          ],
          "scatter": [
           {
            "marker": {
             "line": {
              "color": "#283442"
             }
            },
            "type": "scatter"
           }
          ],
          "scatter3d": [
           {
            "line": {
             "colorbar": {
              "outlinewidth": 0,
              "ticks": ""
             }
            },
            "marker": {
             "colorbar": {
              "outlinewidth": 0,
              "ticks": ""
             }
            },
            "type": "scatter3d"
           }
          ],
          "scattercarpet": [
           {
            "marker": {
             "colorbar": {
              "outlinewidth": 0,
              "ticks": ""
             }
            },
            "type": "scattercarpet"
           }
          ],
          "scattergeo": [
           {
            "marker": {
             "colorbar": {
              "outlinewidth": 0,
              "ticks": ""
             }
            },
            "type": "scattergeo"
           }
          ],
          "scattergl": [
           {
            "marker": {
             "line": {
              "color": "#283442"
             }
            },
            "type": "scattergl"
           }
          ],
          "scattermap": [
           {
            "marker": {
             "colorbar": {
              "outlinewidth": 0,
              "ticks": ""
             }
            },
            "type": "scattermap"
           }
          ],
          "scattermapbox": [
           {
            "marker": {
             "colorbar": {
              "outlinewidth": 0,
              "ticks": ""
             }
            },
            "type": "scattermapbox"
           }
          ],
          "scatterpolar": [
           {
            "marker": {
             "colorbar": {
              "outlinewidth": 0,
              "ticks": ""
             }
            },
            "type": "scatterpolar"
           }
          ],
          "scatterpolargl": [
           {
            "marker": {
             "colorbar": {
              "outlinewidth": 0,
              "ticks": ""
             }
            },
            "type": "scatterpolargl"
           }
          ],
          "scatterternary": [
           {
            "marker": {
             "colorbar": {
              "outlinewidth": 0,
              "ticks": ""
             }
            },
            "type": "scatterternary"
           }
          ],
          "surface": [
           {
            "colorbar": {
             "outlinewidth": 0,
             "ticks": ""
            },
            "colorscale": [
             [
              0,
              "#0d0887"
             ],
             [
              0.1111111111111111,
              "#46039f"
             ],
             [
              0.2222222222222222,
              "#7201a8"
             ],
             [
              0.3333333333333333,
              "#9c179e"
             ],
             [
              0.4444444444444444,
              "#bd3786"
             ],
             [
              0.5555555555555556,
              "#d8576b"
             ],
             [
              0.6666666666666666,
              "#ed7953"
             ],
             [
              0.7777777777777778,
              "#fb9f3a"
             ],
             [
              0.8888888888888888,
              "#fdca26"
             ],
             [
              1,
              "#f0f921"
             ]
            ],
            "type": "surface"
           }
          ],
          "table": [
           {
            "cells": {
             "fill": {
              "color": "#506784"
             },
             "line": {
              "color": "rgb(17,17,17)"
             }
            },
            "header": {
             "fill": {
              "color": "#2a3f5f"
             },
             "line": {
              "color": "rgb(17,17,17)"
             }
            },
            "type": "table"
           }
          ]
         },
         "layout": {
          "annotationdefaults": {
           "arrowcolor": "#f2f5fa",
           "arrowhead": 0,
           "arrowwidth": 1
          },
          "autotypenumbers": "strict",
          "coloraxis": {
           "colorbar": {
            "outlinewidth": 0,
            "ticks": ""
           }
          },
          "colorscale": {
           "diverging": [
            [
             0,
             "#8e0152"
            ],
            [
             0.1,
             "#c51b7d"
            ],
            [
             0.2,
             "#de77ae"
            ],
            [
             0.3,
             "#f1b6da"
            ],
            [
             0.4,
             "#fde0ef"
            ],
            [
             0.5,
             "#f7f7f7"
            ],
            [
             0.6,
             "#e6f5d0"
            ],
            [
             0.7,
             "#b8e186"
            ],
            [
             0.8,
             "#7fbc41"
            ],
            [
             0.9,
             "#4d9221"
            ],
            [
             1,
             "#276419"
            ]
           ],
           "sequential": [
            [
             0,
             "#0d0887"
            ],
            [
             0.1111111111111111,
             "#46039f"
            ],
            [
             0.2222222222222222,
             "#7201a8"
            ],
            [
             0.3333333333333333,
             "#9c179e"
            ],
            [
             0.4444444444444444,
             "#bd3786"
            ],
            [
             0.5555555555555556,
             "#d8576b"
            ],
            [
             0.6666666666666666,
             "#ed7953"
            ],
            [
             0.7777777777777778,
             "#fb9f3a"
            ],
            [
             0.8888888888888888,
             "#fdca26"
            ],
            [
             1,
             "#f0f921"
            ]
           ],
           "sequentialminus": [
            [
             0,
             "#0d0887"
            ],
            [
             0.1111111111111111,
             "#46039f"
            ],
            [
             0.2222222222222222,
             "#7201a8"
            ],
            [
             0.3333333333333333,
             "#9c179e"
            ],
            [
             0.4444444444444444,
             "#bd3786"
            ],
            [
             0.5555555555555556,
             "#d8576b"
            ],
            [
             0.6666666666666666,
             "#ed7953"
            ],
            [
             0.7777777777777778,
             "#fb9f3a"
            ],
            [
             0.8888888888888888,
             "#fdca26"
            ],
            [
             1,
             "#f0f921"
            ]
           ]
          },
          "colorway": [
           "#636efa",
           "#EF553B",
           "#00cc96",
           "#ab63fa",
           "#FFA15A",
           "#19d3f3",
           "#FF6692",
           "#B6E880",
           "#FF97FF",
           "#FECB52"
          ],
          "font": {
           "color": "#f2f5fa"
          },
          "geo": {
           "bgcolor": "rgb(17,17,17)",
           "lakecolor": "rgb(17,17,17)",
           "landcolor": "rgb(17,17,17)",
           "showlakes": true,
           "showland": true,
           "subunitcolor": "#506784"
          },
          "hoverlabel": {
           "align": "left"
          },
          "hovermode": "closest",
          "mapbox": {
           "style": "dark"
          },
          "paper_bgcolor": "rgb(17,17,17)",
          "plot_bgcolor": "rgb(17,17,17)",
          "polar": {
           "angularaxis": {
            "gridcolor": "#506784",
            "linecolor": "#506784",
            "ticks": ""
           },
           "bgcolor": "rgb(17,17,17)",
           "radialaxis": {
            "gridcolor": "#506784",
            "linecolor": "#506784",
            "ticks": ""
           }
          },
          "scene": {
           "xaxis": {
            "backgroundcolor": "rgb(17,17,17)",
            "gridcolor": "#506784",
            "gridwidth": 2,
            "linecolor": "#506784",
            "showbackground": true,
            "ticks": "",
            "zerolinecolor": "#C8D4E3"
           },
           "yaxis": {
            "backgroundcolor": "rgb(17,17,17)",
            "gridcolor": "#506784",
            "gridwidth": 2,
            "linecolor": "#506784",
            "showbackground": true,
            "ticks": "",
            "zerolinecolor": "#C8D4E3"
           },
           "zaxis": {
            "backgroundcolor": "rgb(17,17,17)",
            "gridcolor": "#506784",
            "gridwidth": 2,
            "linecolor": "#506784",
            "showbackground": true,
            "ticks": "",
            "zerolinecolor": "#C8D4E3"
           }
          },
          "shapedefaults": {
           "line": {
            "color": "#f2f5fa"
           }
          },
          "sliderdefaults": {
           "bgcolor": "#C8D4E3",
           "bordercolor": "rgb(17,17,17)",
           "borderwidth": 1,
           "tickwidth": 0
          },
          "ternary": {
           "aaxis": {
            "gridcolor": "#506784",
            "linecolor": "#506784",
            "ticks": ""
           },
           "baxis": {
            "gridcolor": "#506784",
            "linecolor": "#506784",
            "ticks": ""
           },
           "bgcolor": "rgb(17,17,17)",
           "caxis": {
            "gridcolor": "#506784",
            "linecolor": "#506784",
            "ticks": ""
           }
          },
          "title": {
           "x": 0.05
          },
          "updatemenudefaults": {
           "bgcolor": "#506784",
           "borderwidth": 0
          },
          "xaxis": {
           "automargin": true,
           "gridcolor": "#283442",
           "linecolor": "#506784",
           "ticks": "",
           "title": {
            "standoff": 15
           },
           "zerolinecolor": "#283442",
           "zerolinewidth": 2
          },
          "yaxis": {
           "automargin": true,
           "gridcolor": "#283442",
           "linecolor": "#506784",
           "ticks": "",
           "title": {
            "standoff": 15
           },
           "zerolinecolor": "#283442",
           "zerolinewidth": 2
          }
         }
        },
        "title": {
         "text": "Comparación: Precio Real vs. Predicción del Modelo"
        },
        "xaxis": {
         "title": {
          "text": "Fecha"
         }
        },
        "yaxis": {
         "title": {
          "text": "Precio de Cierre (USD)"
         }
        }
       }
      }
     },
     "metadata": {},
     "output_type": "display_data"
    }
   ],
   "source": [
    "fig = go.Figure()\n",
    "\n",
    "# Añadimos la línea de los precios reales\n",
    "fig.add_trace(go.Scatter(x=resultados.index,\n",
    "                         y=resultados['Real'],\n",
    "                         mode='lines',\n",
    "                         name='Precio Real'))\n",
    "\n",
    "# Añadimos la línea de nuestras predicciones (Linea punteada)\n",
    "fig.add_trace(go.Scatter(x=resultados.index,\n",
    "                         y=resultados['Predicción'],\n",
    "                         mode='lines',\n",
    "                         name='Predicción del Modelo',\n",
    "                         line=dict(dash='dot')))\n",
    "\n",
    "# Mejoramos el diseño del gráfico\n",
    "fig.update_layout(\n",
    "    title='Comparación: Precio Real vs. Predicción del Modelo',\n",
    "    xaxis_title='Fecha',\n",
    "    yaxis_title='Precio de Cierre (USD)',\n",
    "    template='plotly_dark',\n",
    "    legend_title='Series'\n",
    ")\n",
    "\n",
    "fig.show()"
   ]
  }
 ],
 "metadata": {
  "kernelspec": {
   "display_name": ".venv",
   "language": "python",
   "name": "python3"
  },
  "language_info": {
   "codemirror_mode": {
    "name": "ipython",
    "version": 3
   },
   "file_extension": ".py",
   "mimetype": "text/x-python",
   "name": "python",
   "nbconvert_exporter": "python",
   "pygments_lexer": "ipython3",
   "version": "3.12.3"
  }
 },
 "nbformat": 4,
 "nbformat_minor": 5
}

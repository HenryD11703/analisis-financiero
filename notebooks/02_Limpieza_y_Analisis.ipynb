{
 "cells": [
  {
   "cell_type": "markdown",
   "id": "48b0d942",
   "metadata": {},
   "source": [
    "# Limpieza y analisis"
   ]
  },
  {
   "cell_type": "code",
   "execution_count": 1,
   "id": "ca66637b",
   "metadata": {},
   "outputs": [
    {
     "name": "stdout",
     "output_type": "stream",
     "text": [
      "Datos cargados desde el archivo:\n"
     ]
    },
    {
     "data": {
      "text/html": [
       "<div>\n",
       "<style scoped>\n",
       "    .dataframe tbody tr th:only-of-type {\n",
       "        vertical-align: middle;\n",
       "    }\n",
       "\n",
       "    .dataframe tbody tr th {\n",
       "        vertical-align: top;\n",
       "    }\n",
       "\n",
       "    .dataframe thead th {\n",
       "        text-align: right;\n",
       "    }\n",
       "</style>\n",
       "<table border=\"1\" class=\"dataframe\">\n",
       "  <thead>\n",
       "    <tr style=\"text-align: right;\">\n",
       "      <th></th>\n",
       "      <th>Open</th>\n",
       "      <th>High</th>\n",
       "      <th>Low</th>\n",
       "      <th>Close</th>\n",
       "      <th>Volume</th>\n",
       "      <th>Dividends</th>\n",
       "      <th>Stock Splits</th>\n",
       "    </tr>\n",
       "    <tr>\n",
       "      <th>Date</th>\n",
       "      <th></th>\n",
       "      <th></th>\n",
       "      <th></th>\n",
       "      <th></th>\n",
       "      <th></th>\n",
       "      <th></th>\n",
       "      <th></th>\n",
       "    </tr>\n",
       "  </thead>\n",
       "  <tbody>\n",
       "    <tr>\n",
       "      <th>2020-08-31 00:00:00-04:00</th>\n",
       "      <td>124.099333</td>\n",
       "      <td>127.426026</td>\n",
       "      <td>122.562438</td>\n",
       "      <td>125.519493</td>\n",
       "      <td>225702700</td>\n",
       "      <td>0.0</td>\n",
       "      <td>4.0</td>\n",
       "    </tr>\n",
       "    <tr>\n",
       "      <th>2020-09-01 00:00:00-04:00</th>\n",
       "      <td>129.137999</td>\n",
       "      <td>131.122352</td>\n",
       "      <td>126.968843</td>\n",
       "      <td>130.519257</td>\n",
       "      <td>151948100</td>\n",
       "      <td>0.0</td>\n",
       "      <td>0.0</td>\n",
       "    </tr>\n",
       "    <tr>\n",
       "      <th>2020-09-02 00:00:00-04:00</th>\n",
       "      <td>133.836251</td>\n",
       "      <td>134.215610</td>\n",
       "      <td>123.535172</td>\n",
       "      <td>127.815125</td>\n",
       "      <td>200119000</td>\n",
       "      <td>0.0</td>\n",
       "      <td>0.0</td>\n",
       "    </tr>\n",
       "    <tr>\n",
       "      <th>2020-09-03 00:00:00-04:00</th>\n",
       "      <td>123.447625</td>\n",
       "      <td>125.324964</td>\n",
       "      <td>117.212500</td>\n",
       "      <td>117.582130</td>\n",
       "      <td>257599600</td>\n",
       "      <td>0.0</td>\n",
       "      <td>0.0</td>\n",
       "    </tr>\n",
       "    <tr>\n",
       "      <th>2020-09-04 00:00:00-04:00</th>\n",
       "      <td>116.794232</td>\n",
       "      <td>120.325195</td>\n",
       "      <td>107.864682</td>\n",
       "      <td>117.659950</td>\n",
       "      <td>332607200</td>\n",
       "      <td>0.0</td>\n",
       "      <td>0.0</td>\n",
       "    </tr>\n",
       "  </tbody>\n",
       "</table>\n",
       "</div>"
      ],
      "text/plain": [
       "                                 Open        High         Low       Close  \\\n",
       "Date                                                                        \n",
       "2020-08-31 00:00:00-04:00  124.099333  127.426026  122.562438  125.519493   \n",
       "2020-09-01 00:00:00-04:00  129.137999  131.122352  126.968843  130.519257   \n",
       "2020-09-02 00:00:00-04:00  133.836251  134.215610  123.535172  127.815125   \n",
       "2020-09-03 00:00:00-04:00  123.447625  125.324964  117.212500  117.582130   \n",
       "2020-09-04 00:00:00-04:00  116.794232  120.325195  107.864682  117.659950   \n",
       "\n",
       "                              Volume  Dividends  Stock Splits  \n",
       "Date                                                           \n",
       "2020-08-31 00:00:00-04:00  225702700        0.0           4.0  \n",
       "2020-09-01 00:00:00-04:00  151948100        0.0           0.0  \n",
       "2020-09-02 00:00:00-04:00  200119000        0.0           0.0  \n",
       "2020-09-03 00:00:00-04:00  257599600        0.0           0.0  \n",
       "2020-09-04 00:00:00-04:00  332607200        0.0           0.0  "
      ]
     },
     "metadata": {},
     "output_type": "display_data"
    }
   ],
   "source": [
    "import pandas as pd\n",
    "\n",
    "df = pd.read_csv('../data/AAPL_bruto.csv', index_col='Date', parse_dates=True)\n",
    "\n",
    "print(\"Datos cargados desde el archivo:\")\n",
    "display(df.head())"
   ]
  },
  {
   "cell_type": "markdown",
   "id": "30c20565",
   "metadata": {},
   "source": [
    "Carga de datos de 'data/AAPL_bruto.csv' donde `index_col=\"Date\"` le dice a pandas que la columna 'Date' debe ser el índice de la tabla y `parse_dates=True` convierte automáticamente el texto de esa columna a objetos de fecha."
   ]
  },
  {
   "cell_type": "code",
   "execution_count": 2,
   "id": "9cb7802f",
   "metadata": {},
   "outputs": [
    {
     "name": "stdout",
     "output_type": "stream",
     "text": [
      "Suma de valores nulos por columna:\n",
      "Open            0\n",
      "High            0\n",
      "Low             0\n",
      "Close           0\n",
      "Volume          0\n",
      "Dividends       0\n",
      "Stock Splits    0\n",
      "dtype: int64\n",
      "\n",
      "Número de filas duplicadas: 0\n"
     ]
    }
   ],
   "source": [
    "print(\"Suma de valores nulos por columna:\")\n",
    "print(df.isnull().sum())\n",
    "\n",
    "print(f\"\\nNúmero de filas duplicadas: {df.duplicated().sum()}\")"
   ]
  },
  {
   "cell_type": "markdown",
   "id": "18828169",
   "metadata": {},
   "source": [
    "Verificamos si hay filas duplicadas."
   ]
  },
  {
   "cell_type": "code",
   "execution_count": null,
   "id": "15e1240e",
   "metadata": {},
   "outputs": [
    {
     "name": "stdout",
     "output_type": "stream",
     "text": [
      "Columnas 'Dividends' y 'Stock Splits' eliminadas.\n"
     ]
    },
    {
     "data": {
      "text/html": [
       "<div>\n",
       "<style scoped>\n",
       "    .dataframe tbody tr th:only-of-type {\n",
       "        vertical-align: middle;\n",
       "    }\n",
       "\n",
       "    .dataframe tbody tr th {\n",
       "        vertical-align: top;\n",
       "    }\n",
       "\n",
       "    .dataframe thead th {\n",
       "        text-align: right;\n",
       "    }\n",
       "</style>\n",
       "<table border=\"1\" class=\"dataframe\">\n",
       "  <thead>\n",
       "    <tr style=\"text-align: right;\">\n",
       "      <th></th>\n",
       "      <th>Open</th>\n",
       "      <th>High</th>\n",
       "      <th>Low</th>\n",
       "      <th>Close</th>\n",
       "      <th>Volume</th>\n",
       "    </tr>\n",
       "    <tr>\n",
       "      <th>Date</th>\n",
       "      <th></th>\n",
       "      <th></th>\n",
       "      <th></th>\n",
       "      <th></th>\n",
       "      <th></th>\n",
       "    </tr>\n",
       "  </thead>\n",
       "  <tbody>\n",
       "    <tr>\n",
       "      <th>2020-08-31 00:00:00-04:00</th>\n",
       "      <td>124.099333</td>\n",
       "      <td>127.426026</td>\n",
       "      <td>122.562438</td>\n",
       "      <td>125.519493</td>\n",
       "      <td>225702700</td>\n",
       "    </tr>\n",
       "    <tr>\n",
       "      <th>2020-09-01 00:00:00-04:00</th>\n",
       "      <td>129.137999</td>\n",
       "      <td>131.122352</td>\n",
       "      <td>126.968843</td>\n",
       "      <td>130.519257</td>\n",
       "      <td>151948100</td>\n",
       "    </tr>\n",
       "    <tr>\n",
       "      <th>2020-09-02 00:00:00-04:00</th>\n",
       "      <td>133.836251</td>\n",
       "      <td>134.215610</td>\n",
       "      <td>123.535172</td>\n",
       "      <td>127.815125</td>\n",
       "      <td>200119000</td>\n",
       "    </tr>\n",
       "    <tr>\n",
       "      <th>2020-09-03 00:00:00-04:00</th>\n",
       "      <td>123.447625</td>\n",
       "      <td>125.324964</td>\n",
       "      <td>117.212500</td>\n",
       "      <td>117.582130</td>\n",
       "      <td>257599600</td>\n",
       "    </tr>\n",
       "    <tr>\n",
       "      <th>2020-09-04 00:00:00-04:00</th>\n",
       "      <td>116.794232</td>\n",
       "      <td>120.325195</td>\n",
       "      <td>107.864682</td>\n",
       "      <td>117.659950</td>\n",
       "      <td>332607200</td>\n",
       "    </tr>\n",
       "  </tbody>\n",
       "</table>\n",
       "</div>"
      ],
      "text/plain": [
       "                                 Open        High         Low       Close  \\\n",
       "Date                                                                        \n",
       "2020-08-31 00:00:00-04:00  124.099333  127.426026  122.562438  125.519493   \n",
       "2020-09-01 00:00:00-04:00  129.137999  131.122352  126.968843  130.519257   \n",
       "2020-09-02 00:00:00-04:00  133.836251  134.215610  123.535172  127.815125   \n",
       "2020-09-03 00:00:00-04:00  123.447625  125.324964  117.212500  117.582130   \n",
       "2020-09-04 00:00:00-04:00  116.794232  120.325195  107.864682  117.659950   \n",
       "\n",
       "                              Volume  \n",
       "Date                                  \n",
       "2020-08-31 00:00:00-04:00  225702700  \n",
       "2020-09-01 00:00:00-04:00  151948100  \n",
       "2020-09-02 00:00:00-04:00  200119000  \n",
       "2020-09-03 00:00:00-04:00  257599600  \n",
       "2020-09-04 00:00:00-04:00  332607200  "
      ]
     },
     "metadata": {},
     "output_type": "display_data"
    }
   ],
   "source": [
    "df.drop(['Dividends', 'Stock Splits'], axis=1, inplace=True)\n",
    "\n",
    "print(\"Columnas 'Dividends' y 'Stock Splits' eliminadas.\")\n",
    "display(df.head())"
   ]
  },
  {
   "cell_type": "markdown",
   "id": "511238e8",
   "metadata": {},
   "source": [
    "Se eliminaron las columnas 'Dividends' y 'Stock Splits' del DataFrame, ya que no son relevantes para el análisis de precios de las acciones.\n",
    "\n",
    "Se utiliza `axis=1` para indicar que se están eliminando columnas (en lugar de filas, que sería `axis=0`), y `inplace=True` para modificar el DataFrame directamente sin necesidad de reasignarlo."
   ]
  },
  {
   "cell_type": "markdown",
   "id": "ac9feb7e",
   "metadata": {},
   "source": [
    "## Guardamos el DataFrame limpio en un nuevo archivo CSV.\n",
    "df.to_csv('data/AAPL_limpio.csv')"
   ]
  },
  {
   "cell_type": "code",
   "execution_count": 4,
   "id": "d74aa056",
   "metadata": {},
   "outputs": [
    {
     "name": "stdout",
     "output_type": "stream",
     "text": [
      "Datos limpios guardados exitosamente en 'data/AAPL_limpio.csv'\n"
     ]
    }
   ],
   "source": [
    "df.to_csv('../data/AAPL_limpio.csv')\n",
    "\n",
    "print(\"Datos limpios guardados exitosamente en 'data/AAPL_limpio.csv'\")"
   ]
  },
  {
   "cell_type": "markdown",
   "id": "6e7e8a3a",
   "metadata": {},
   "source": [
    "En este caso bastante de esto es innecesario ya que la libreria yfinance provee datos muy limpios y estructurados, minimizando la necesidad de un preprocesamiento extenso, sin embargo, es importante realizar una revisión y limpieza básica para asegurar la calidad de los datos ademas de ser algo recomendable en cualquier proyecto de ciencia de datos."
   ]
  }
 ],
 "metadata": {
  "kernelspec": {
   "display_name": ".venv",
   "language": "python",
   "name": "python3"
  },
  "language_info": {
   "codemirror_mode": {
    "name": "ipython",
    "version": 3
   },
   "file_extension": ".py",
   "mimetype": "text/x-python",
   "name": "python",
   "nbconvert_exporter": "python",
   "pygments_lexer": "ipython3",
   "version": "3.12.3"
  }
 },
 "nbformat": 4,
 "nbformat_minor": 5
}

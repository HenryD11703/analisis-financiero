{
 "cells": [
  {
   "cell_type": "markdown",
   "id": "fec11f6b",
   "metadata": {},
   "source": [
    "# Obtención de datos"
   ]
  },
  {
   "cell_type": "markdown",
   "id": "48c6c150",
   "metadata": {},
   "source": [
    "## Librerías necesarias\n",
    "    1. yfinance: Para la obtención de datos financieros del dataset de Yahoo Finance.\n",
    "    2. pandas: Para la manipulación y análisis de datos."
   ]
  },
  {
   "cell_type": "code",
   "execution_count": 1,
   "id": "84804ecf",
   "metadata": {},
   "outputs": [],
   "source": [
    "import yfinance as yf\n",
    "import pandas as pd"
   ]
  },
  {
   "cell_type": "code",
   "execution_count": 2,
   "id": "ac0fcf31",
   "metadata": {},
   "outputs": [
    {
     "name": "stdout",
     "output_type": "stream",
     "text": [
      "Datos de AAPL descargados exitosamente.\n"
     ]
    }
   ],
   "source": [
    "ticker = 'AAPL'\n",
    "\n",
    "apple_stock = yf.Ticker(ticker)\n",
    "\n",
    "# 'period=\"5y\"' datos de los ultimos 5 años.\n",
    "# 'interval=\"1d\"' actualiza los datos a intervalos diarios.\n",
    "datos_historicos = apple_stock.history(period=\"5y\", interval=\"1d\")\n",
    "\n",
    "print(f\"Datos de {ticker} descargados exitosamente.\")"
   ]
  },
  {
   "cell_type": "markdown",
   "id": "0ecff226",
   "metadata": {},
   "source": [
    "## Inspeccion de los datos"
   ]
  },
  {
   "cell_type": "code",
   "execution_count": 4,
   "id": "2f569236",
   "metadata": {},
   "outputs": [
    {
     "name": "stdout",
     "output_type": "stream",
     "text": [
      "Primeras 5 filas de los datos:\n"
     ]
    },
    {
     "data": {
      "text/html": [
       "<div>\n",
       "<style scoped>\n",
       "    .dataframe tbody tr th:only-of-type {\n",
       "        vertical-align: middle;\n",
       "    }\n",
       "\n",
       "    .dataframe tbody tr th {\n",
       "        vertical-align: top;\n",
       "    }\n",
       "\n",
       "    .dataframe thead th {\n",
       "        text-align: right;\n",
       "    }\n",
       "</style>\n",
       "<table border=\"1\" class=\"dataframe\">\n",
       "  <thead>\n",
       "    <tr style=\"text-align: right;\">\n",
       "      <th></th>\n",
       "      <th>Open</th>\n",
       "      <th>High</th>\n",
       "      <th>Low</th>\n",
       "      <th>Close</th>\n",
       "      <th>Volume</th>\n",
       "      <th>Dividends</th>\n",
       "      <th>Stock Splits</th>\n",
       "    </tr>\n",
       "    <tr>\n",
       "      <th>Date</th>\n",
       "      <th></th>\n",
       "      <th></th>\n",
       "      <th></th>\n",
       "      <th></th>\n",
       "      <th></th>\n",
       "      <th></th>\n",
       "      <th></th>\n",
       "    </tr>\n",
       "  </thead>\n",
       "  <tbody>\n",
       "    <tr>\n",
       "      <th>2020-08-31 00:00:00-04:00</th>\n",
       "      <td>124.099333</td>\n",
       "      <td>127.426026</td>\n",
       "      <td>122.562438</td>\n",
       "      <td>125.519493</td>\n",
       "      <td>225702700</td>\n",
       "      <td>0.0</td>\n",
       "      <td>4.0</td>\n",
       "    </tr>\n",
       "    <tr>\n",
       "      <th>2020-09-01 00:00:00-04:00</th>\n",
       "      <td>129.137999</td>\n",
       "      <td>131.122352</td>\n",
       "      <td>126.968843</td>\n",
       "      <td>130.519257</td>\n",
       "      <td>151948100</td>\n",
       "      <td>0.0</td>\n",
       "      <td>0.0</td>\n",
       "    </tr>\n",
       "    <tr>\n",
       "      <th>2020-09-02 00:00:00-04:00</th>\n",
       "      <td>133.836251</td>\n",
       "      <td>134.215610</td>\n",
       "      <td>123.535172</td>\n",
       "      <td>127.815125</td>\n",
       "      <td>200119000</td>\n",
       "      <td>0.0</td>\n",
       "      <td>0.0</td>\n",
       "    </tr>\n",
       "    <tr>\n",
       "      <th>2020-09-03 00:00:00-04:00</th>\n",
       "      <td>123.447625</td>\n",
       "      <td>125.324964</td>\n",
       "      <td>117.212500</td>\n",
       "      <td>117.582130</td>\n",
       "      <td>257599600</td>\n",
       "      <td>0.0</td>\n",
       "      <td>0.0</td>\n",
       "    </tr>\n",
       "    <tr>\n",
       "      <th>2020-09-04 00:00:00-04:00</th>\n",
       "      <td>116.794232</td>\n",
       "      <td>120.325195</td>\n",
       "      <td>107.864682</td>\n",
       "      <td>117.659950</td>\n",
       "      <td>332607200</td>\n",
       "      <td>0.0</td>\n",
       "      <td>0.0</td>\n",
       "    </tr>\n",
       "  </tbody>\n",
       "</table>\n",
       "</div>"
      ],
      "text/plain": [
       "                                 Open        High         Low       Close  \\\n",
       "Date                                                                        \n",
       "2020-08-31 00:00:00-04:00  124.099333  127.426026  122.562438  125.519493   \n",
       "2020-09-01 00:00:00-04:00  129.137999  131.122352  126.968843  130.519257   \n",
       "2020-09-02 00:00:00-04:00  133.836251  134.215610  123.535172  127.815125   \n",
       "2020-09-03 00:00:00-04:00  123.447625  125.324964  117.212500  117.582130   \n",
       "2020-09-04 00:00:00-04:00  116.794232  120.325195  107.864682  117.659950   \n",
       "\n",
       "                              Volume  Dividends  Stock Splits  \n",
       "Date                                                           \n",
       "2020-08-31 00:00:00-04:00  225702700        0.0           4.0  \n",
       "2020-09-01 00:00:00-04:00  151948100        0.0           0.0  \n",
       "2020-09-02 00:00:00-04:00  200119000        0.0           0.0  \n",
       "2020-09-03 00:00:00-04:00  257599600        0.0           0.0  \n",
       "2020-09-04 00:00:00-04:00  332607200        0.0           0.0  "
      ]
     },
     "metadata": {},
     "output_type": "display_data"
    }
   ],
   "source": [
    "print(\"Primeras 5 filas de los datos:\")\n",
    "display(datos_historicos.head())"
   ]
  },
  {
   "cell_type": "markdown",
   "id": "eb48a0b2",
   "metadata": {},
   "source": [
    "La funcion `.info` da un resumen conciso del DataFrame, incluyendo el número de entradas, el número de columnas, los tipos de datos de cada columna y la cantidad de valores no nulos en cada columna."
   ]
  },
  {
   "cell_type": "code",
   "execution_count": 3,
   "id": "1923ed6f",
   "metadata": {},
   "outputs": [
    {
     "name": "stdout",
     "output_type": "stream",
     "text": [
      "\n",
      "Información general del DataFrame:\n",
      "<class 'pandas.core.frame.DataFrame'>\n",
      "DatetimeIndex: 1256 entries, 2020-08-31 00:00:00-04:00 to 2025-08-29 00:00:00-04:00\n",
      "Data columns (total 7 columns):\n",
      " #   Column        Non-Null Count  Dtype  \n",
      "---  ------        --------------  -----  \n",
      " 0   Open          1256 non-null   float64\n",
      " 1   High          1256 non-null   float64\n",
      " 2   Low           1256 non-null   float64\n",
      " 3   Close         1256 non-null   float64\n",
      " 4   Volume        1256 non-null   int64  \n",
      " 5   Dividends     1256 non-null   float64\n",
      " 6   Stock Splits  1256 non-null   float64\n",
      "dtypes: float64(6), int64(1)\n",
      "memory usage: 78.5 KB\n"
     ]
    }
   ],
   "source": [
    "print(\"\\nInformación general del DataFrame:\")\n",
    "datos_historicos.info()"
   ]
  },
  {
   "cell_type": "markdown",
   "id": "d8fdbe4c",
   "metadata": {},
   "source": [
    "## Guardar los datos"
   ]
  },
  {
   "cell_type": "code",
   "execution_count": 5,
   "id": "13e375b7",
   "metadata": {},
   "outputs": [
    {
     "name": "stdout",
     "output_type": "stream",
     "text": [
      "Datos brutos guardados exitosamente en 'data/AAPL_bruto.csv'\n"
     ]
    }
   ],
   "source": [
    "datos_historicos.to_csv('../data/AAPL_bruto.csv')\n",
    "\n",
    "print(\"Datos brutos guardados exitosamente en 'data/AAPL_bruto.csv'\")"
   ]
  }
 ],
 "metadata": {
  "kernelspec": {
   "display_name": ".venv",
   "language": "python",
   "name": "python3"
  },
  "language_info": {
   "codemirror_mode": {
    "name": "ipython",
    "version": 3
   },
   "file_extension": ".py",
   "mimetype": "text/x-python",
   "name": "python",
   "nbconvert_exporter": "python",
   "pygments_lexer": "ipython3",
   "version": "3.12.3"
  }
 },
 "nbformat": 4,
 "nbformat_minor": 5
}
